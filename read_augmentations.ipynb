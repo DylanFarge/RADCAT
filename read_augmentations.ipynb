{
 "cells": [
  {
   "cell_type": "code",
   "execution_count": null,
   "id": "03a7033f",
   "metadata": {},
   "outputs": [],
   "source": [
    "#> Imports\n",
    "import numpy as np\n",
    "from ipywidgets import interact\n",
    "import matplotlib.pyplot as plt"
   ]
  },
  {
   "cell_type": "code",
   "execution_count": null,
   "id": "bb3dfcbe",
   "metadata": {},
   "outputs": [],
   "source": [
    "#> How to read in the augmentations.txt file.\n",
    "def read_in_augmentations_file(dataset):\n",
    "    \n",
    "    augmented_images = []\n",
    "    \n",
    "    # In order to balance the morphological distribution in the final datasets, the number of augmentations needed per morph class differs.\n",
    "    # Hence the need to read in the jaggered data like below.    \n",
    "    with open(dataset + \"/augmentations.txt\", \"rb\") as f:\n",
    "        \n",
    "        while True:\n",
    "            try: augmented_images.append([np.load(f, allow_pickle = True) for _ in range(3 if \"_V\" in dataset else 1)])\n",
    "            except EOFError: break\n",
    "            \n",
    "    return augmented_images"
   ]
  },
  {
   "cell_type": "code",
   "execution_count": null,
   "id": "d7b75095",
   "metadata": {},
   "outputs": [],
   "source": [
    "#> Handle plot creation depending on the dataset.\n",
    "def handle_combined_image_plots(axN, source_id, number_of_augs, augmented_images):\n",
    "    \n",
    "    fig, ax = plt.subplots(1, number_of_augs, figsize=(5 * number_of_augs, 5 * 1))\n",
    "    fig.suptitle(f\"Augmented Images for Source ID: {source_id} (red = FIRST, green = LoTSS, blue = NVSS)\", fontsize=16)\n",
    "    \n",
    "    for i in range(number_of_augs):\n",
    "        ax[i].imshow(augmented_images[source_id][0][i])\n",
    "        ax[i].set_title(f\"Augmentation: {i}\")\n",
    "       \n",
    "        \n",
    "def handle_seperate_image_plots(axN, source_id, number_of_augs, augmented_images):\n",
    "    \n",
    "    fig, ax = plt.subplots(3, number_of_augs, figsize=(5 * number_of_augs, 5 * 3))\n",
    "    fig.suptitle(f\"Augmented Images for Source ID: {source_id}\", fontsize=16)\n",
    "    \n",
    "    for i in range(number_of_augs):\n",
    "        for j, survey in enumerate([\"FIRST\", \"LoTSS\", \"NVSS\"]): \n",
    "            ax[j,i].imshow(augmented_images[source_id][j][i])\n",
    "            ax[j,i].set_title(f\"Augmentation: {i}, Survey: {survey}\")\n",
    "\n",
    "\n",
    "def handle_visibility_plots(ax, source_id, number_of_augs, augmented_images):\n",
    "    \n",
    "    fig, ax = plt.subplots(6, number_of_augs, figsize=(6 * number_of_augs, 5 * 6)) # (9 * number_of_augs, 6 * 6)\n",
    "    fig.suptitle(f\"Visibilities of Augmented Images for Source ID: {source_id}\", fontsize=16)\n",
    "    \n",
    "    for i in range(number_of_augs):\n",
    "        for j, survey in enumerate([\"FIRST\", \"LoTSS\", \"NVSS\"]):\n",
    "            ax[j,i].imshow(augmented_images[source_id][0][i][:,:,j], aspect=\"auto\")\n",
    "            ax[j,i].set_xlabel(\"Baselines\")\n",
    "            ax[j,i].set_ylabel(\"Timesteps\")\n",
    "            ax[j,i].set_title(f\"Augmentation: {i}, Survey: {survey}, AMPLITUDE\")\n",
    "            \n",
    "            ax[j + 3,i].imshow(augmented_images[source_id][0][i][:,:,j + 3], aspect=\"auto\")\n",
    "            ax[j + 3,i].set_xlabel(\"Baselines\")\n",
    "            ax[j + 3,i].set_ylabel(\"Timesteps\")\n",
    "            ax[j + 3,i].set_title(f\"Augmentation: {i}, Survey: {survey}, PHASE\")"
   ]
  },
  {
   "cell_type": "code",
   "execution_count": null,
   "id": "daf13f4a",
   "metadata": {},
   "outputs": [],
   "source": [
    "#> How to use and display the interactive plots.\n",
    "def show_augmented_images(dataset, source_id):\n",
    "    \n",
    "    augmented_images = read_in_augmentations_file(dataset)\n",
    "\n",
    "    print(len(augmented_images), \"\\t\\t-> Number of source IDs (Total unique val-train sources pre-augmentations).\")\n",
    "    print(len(augmented_images[source_id]), \"\\t\\t-> Either '1' for single survey-combined-in-channels image or '3' for seperate monochrome-survey images.\")\n",
    "    print(augmented_images[source_id][0].shape, \"-> Shape of a single source (number of augmented images, pixels, pixels, colour channels).\")\n",
    "    \n",
    "    number_of_augs = augmented_images[source_id][0].shape[0]\n",
    "    \n",
    "    if \"RADVIS\" in dataset: \n",
    "        handle_visibility_plots(None, source_id, number_of_augs, augmented_images)\n",
    "        \n",
    "    elif \"RADCAT_V\" in dataset: \n",
    "        handle_seperate_image_plots(None, source_id, number_of_augs, augmented_images)\n",
    "        \n",
    "    else: # RADCAT-F\\c\n",
    "        handle_combined_image_plots(None, source_id, number_of_augs, augmented_images)\n",
    "    \n",
    "    plt.show()\n",
    "    \n",
    "interact(show_augmented_images, \n",
    "         dataset = [\"RADCAT_F\", \"RADCAT_Fc\", \"RADCAT_V\", \"RADCAT_Vc\", \"RADVIS\", \"RADVISc\"],\n",
    "         source_id = sorted(np.loadtxt(\"source_ids_val_train.txt\", dtype=int)))"
   ]
  }
 ],
 "metadata": {
  "kernelspec": {
   "display_name": "Python 3",
   "language": "python",
   "name": "python3"
  },
  "language_info": {
   "codemirror_mode": {
    "name": "ipython",
    "version": 3
   },
   "file_extension": ".py",
   "mimetype": "text/x-python",
   "name": "python",
   "nbconvert_exporter": "python",
   "pygments_lexer": "ipython3",
   "version": "3.12.3"
  }
 },
 "nbformat": 4,
 "nbformat_minor": 5
}
